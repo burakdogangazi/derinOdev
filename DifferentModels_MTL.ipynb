{
 "cells": [
  {
   "cell_type": "markdown",
   "id": "a2b6e188",
   "metadata": {},
   "source": [
    "## 1. Import Libraries and Set Device"
   ]
  },
  {
   "cell_type": "code",
   "execution_count": null,
   "id": "8ddb820c",
   "metadata": {},
   "outputs": [],
   "source": [
    "# --- General Libraries ---\n",
    "import os\n",
    "import warnings\n",
    "import time\n",
    "\n",
    "# --- Data Handling ---\n",
    "import pandas as pd\n",
    "import numpy as np\n",
    "from sklearn.model_selection import train_test_split\n",
    "from sklearn.ensemble import RandomForestClassifier\n",
    "from sklearn.linear_model import LogisticRegression\n",
    "from sklearn.svm import SVC\n",
    "from sklearn.tree import DecisionTreeClassifier\n",
    "from xgboost import XGBClassifier\n",
    "from sklearn.metrics import accuracy_score, confusion_matrix, classification_report, f1_score, precision_score, recall_score\n",
    "from sklearn.decomposition import PCA\n",
    "from sklearn.preprocessing import StandardScaler\n",
    "\n",
    "# --- Image Handling and Visualization ---\n",
    "import matplotlib.pyplot as plt\n",
    "import seaborn as sns\n",
    "from PIL import Image\n",
    "\n",
    "# --- PyTorch and Deep Learning ---\n",
    "import torch\n",
    "import torch.nn as nn\n",
    "import torch.optim as optim\n",
    "from torch.utils.data import Dataset, DataLoader\n",
    "from torchvision import transforms, models\n",
    "\n",
    "# --- Utilities ---\n",
    "from tqdm import tqdm\n",
    "import joblib\n",
    "\n",
    "# --- Warning Suppression ---\n",
    "warnings.filterwarnings('ignore')\n"
   ]
  },
  {
   "cell_type": "code",
   "execution_count": null,
   "id": "f861defc",
   "metadata": {},
   "outputs": [],
   "source": [
    "# Set the device for PyTorch computations\n",
    "device = torch.device(\"cuda\" if torch.cuda.is_available() else \"cpu\")\n",
    "\n",
    "# Print device information\n",
    "print(f\"Using {device} device\")\n",
    "print(f\"CUDA Available: {torch.cuda.is_available()}\")\n",
    "\n",
    "# If CUDA is available, print additional details\n",
    "if torch.cuda.is_available():\n",
    "    print(f\"Number of CUDA Devices: {torch.cuda.device_count()}\")\n",
    "    print(f\"Current CUDA Device: {torch.cuda.current_device()}\")\n",
    "    print(f\"CUDA Device Name: {torch.cuda.get_device_name(torch.cuda.current_device())}\")"
   ]
  },
  {
   "cell_type": "markdown",
   "id": "b4b8b13b",
   "metadata": {},
   "source": [
    "## 2. Data Loading and Preprocessing"
   ]
  },
  {
   "cell_type": "code",
   "execution_count": null,
   "id": "4752e7c7",
   "metadata": {},
   "outputs": [],
   "source": [
    "root_dir = \"lung_colon_image_set\"\n",
    "image_paths = []\n",
    "multi_labels = []\n",
    "\n",
    "label_mapping = {\n",
    "    'lung_n': 0, 'lung_aca': 1, 'lung_scc': 2,\n",
    "    'colon_n': 3, 'colon_aca': 4\n",
    "}\n",
    "\n",
    "class_names = list(label_mapping.keys())\n",
    "\n",
    "for subfolder in ['lung_image_sets/lung_n', 'lung_image_sets/lung_aca', 'lung_image_sets/lung_scc',\n",
    "                  'colon_image_sets/colon_n', 'colon_image_sets/colon_aca']:\n",
    "    class_dir = os.path.join(root_dir, subfolder)\n",
    "    class_name = subfolder.split('/')[-1]\n",
    "\n",
    "    for img_file in os.listdir(class_dir):\n",
    "        img_path = os.path.join(class_dir, img_file)\n",
    "        image_paths.append(img_path)\n",
    "        multi_labels.append(label_mapping[class_name])\n",
    "\n",
    "print(f\"Total Image: {len(image_paths)}\")\n"
   ]
  },
  {
   "cell_type": "code",
   "execution_count": null,
   "id": "098b64cb",
   "metadata": {},
   "outputs": [],
   "source": [
    "train_transform = transforms.Compose([\n",
    "    transforms.Resize((224, 224)), \n",
    "    transforms.RandomApply([transforms.GaussianBlur(kernel_size=5)], p=0.3), \n",
    "    transforms.RandomApply([transforms.RandomAffine(degrees=15, translate=(0.1, 0.1), scale=(0.85, 1.15))], p=0.5), \n",
    "    transforms.RandomPerspective(distortion_scale=0.5, p=0.5),\n",
    "    transforms.RandomHorizontalFlip(p=0.5), \n",
    "    transforms.RandomVerticalFlip(p=0.5), \n",
    "    transforms.ColorJitter(brightness=0.3, contrast=0.3, saturation=0.3, hue=0.2),\n",
    "    transforms.ToTensor(),\n",
    "    transforms.Normalize(mean=[0.485, 0.456, 0.406], std=[0.229, 0.224, 0.225]),\n",
    "])\n",
    "\n",
    "# Regular transform for test/validation data (no augmentation)\n",
    "test_transform = transforms.Compose([\n",
    "    transforms.Resize((224, 224)),\n",
    "    transforms.ToTensor(),\n",
    "    transforms.Normalize(mean=[0.485, 0.456, 0.406], std=[0.229, 0.224, 0.225]),\n",
    "])"
   ]
  },
  {
   "cell_type": "code",
   "execution_count": null,
   "id": "fb414f8a",
   "metadata": {},
   "outputs": [],
   "source": [
    "class FeatureDataset(Dataset):\n",
    "    def __init__(self, image_paths, multi_labels, transform=None):\n",
    "        self.image_paths = image_paths\n",
    "        self.multi_labels = multi_labels\n",
    "        self.transform = transform\n",
    "\n",
    "    def __len__(self):\n",
    "        return len(self.image_paths)\n",
    "\n",
    "    def __getitem__(self, idx):\n",
    "        image = Image.open(self.image_paths[idx]).convert(\"RGB\")\n",
    "        if self.transform:\n",
    "            image = self.transform(image)\n",
    "        return image, self.multi_labels[idx]\n"
   ]
  },
  {
   "cell_type": "code",
   "execution_count": null,
   "id": "c0c6e132",
   "metadata": {},
   "outputs": [],
   "source": [
    "X_train, X_test, y_train, y_test = train_test_split(\n",
    "    image_paths, \n",
    "    multi_labels, \n",
    "    test_size=0.2, \n",
    "    random_state=42, \n",
    "    stratify=multi_labels\n",
    ")\n",
    "\n",
    "# Create datasets with respective transformations\n",
    "train_dataset = FeatureDataset(X_train, y_train, transform=train_transform)\n",
    "test_dataset = FeatureDataset(X_test, y_test, transform=test_transform)\n",
    "\n",
    "# Create data loaders for train and test datasets\n",
    "train_loader = DataLoader(train_dataset, batch_size=128, shuffle=True)\n",
    "test_loader = DataLoader(test_dataset, batch_size=128, shuffle=False)"
   ]
  },
  {
   "cell_type": "markdown",
   "id": "5e6318d3",
   "metadata": {},
   "source": [
    "## 3. EfficientNetB3 For Feature Extraction"
   ]
  },
  {
   "cell_type": "code",
   "execution_count": null,
   "id": "817a065a",
   "metadata": {},
   "outputs": [],
   "source": [
    "model = models.efficientnet_b3(weights=models.EfficientNet_B3_Weights.DEFAULT)\n",
    "model.classifier = torch.nn.Identity() \n",
    "model = model.to(device)\n",
    "model.eval()"
   ]
  },
  {
   "cell_type": "code",
   "execution_count": null,
   "id": "5416671e",
   "metadata": {},
   "outputs": [],
   "source": [
    "def extract_features(dataloader, model, device='cuda'):\n",
    "    all_features = []\n",
    "    all_labels = []\n",
    "\n",
    "    with torch.no_grad(): \n",
    "        for inputs, labels in dataloader:\n",
    "            inputs = inputs.to(device)\n",
    "            labels = labels.to(device)\n",
    "\n",
    "            features = model(inputs)\n",
    "\n",
    "            all_features.append(features.cpu().numpy())\n",
    "            all_labels.extend(labels.cpu().numpy())\n",
    "\n",
    "    return np.concatenate(all_features), np.array(all_labels)"
   ]
  },
  {
   "cell_type": "code",
   "execution_count": null,
   "id": "7274f55a",
   "metadata": {},
   "outputs": [],
   "source": [
    "X_train_feat, y_train = extract_features(train_loader, model, device)\n",
    "X_test_feat, y_test = extract_features(test_loader, model, device)"
   ]
  },
  {
   "cell_type": "code",
   "execution_count": null,
   "id": "c46c70ee",
   "metadata": {},
   "outputs": [],
   "source": [
    "print(f\"Train Feature Shape: {X_train_feat.shape}\")\n",
    "print(f\"Test Feature Shape: {X_test_feat.shape}\")\n",
    "print(f\"Train Label Shape: {y_train.shape}\")\n",
    "print(f\"Test Label Shape: {y_test.shape}\")"
   ]
  },
  {
   "cell_type": "code",
   "execution_count": null,
   "id": "69d90747",
   "metadata": {},
   "outputs": [],
   "source": [
    "'''# --- Standardize Features ---\n",
    "scaler = StandardScaler()\n",
    "\n",
    "# Standardize the train features and test features separately\n",
    "X_train_scaled = scaler.fit_transform(X_train_feat)\n",
    "X_test_scaled = scaler.transform(X_test_feat)\n",
    "\n",
    "print(f\"Train Features Shape After Scaling: {X_train_scaled.shape}\")\n",
    "print(f\"Test Features Shape After Scaling: {X_test_scaled.shape}\")'''"
   ]
  },
  {
   "cell_type": "code",
   "execution_count": null,
   "id": "544f7267",
   "metadata": {},
   "outputs": [],
   "source": [
    "'''pca = PCA(n_components=50)  # Adjust n_components as needed\n",
    "\n",
    "# Fit and transform the training data, and transform the test data\n",
    "X_train_pca = pca.fit_transform(X_train_scaled)\n",
    "X_test_pca = pca.transform(X_test_scaled)\n",
    "\n",
    "print(f\"Train Features Shape After PCA: {X_train_pca.shape}\")\n",
    "print(f\"Test Features Shape After PCA: {X_test_pca.shape}\")'''"
   ]
  },
  {
   "cell_type": "code",
   "execution_count": null,
   "id": "bfcc80cf",
   "metadata": {},
   "outputs": [],
   "source": [
    "'''pca = PCA().fit(X_train_scaled)\n",
    "\n",
    "# Calculate cumulative variance\n",
    "cumulative_variance = np.cumsum(pca.explained_variance_ratio_)\n",
    "\n",
    "# Number of components that explain 90% of the variance\n",
    "n_components_90 = np.argmax(cumulative_variance >= 0.90) + 1\n",
    "\n",
    "# Elbow point (e.g., where variance gain is < 1%)\n",
    "variance_gains = np.diff(pca.explained_variance_ratio_)\n",
    "elbow_point = np.argmax(variance_gains < 0.01) + 1\n",
    "\n",
    "print(f\"Number of components for 90% variance: {n_components_90}\")\n",
    "print(f\"Number of components at the elbow point: {elbow_point}\")'''"
   ]
  },
  {
   "cell_type": "code",
   "execution_count": null,
   "id": "cdbc9ff2",
   "metadata": {},
   "outputs": [],
   "source": [
    "'''pca_90 = PCA(n_components=n_components_90)\n",
    "X_train_pca_90 = pca_90.fit_transform(X_train_scaled)\n",
    "X_test_pca_90 = pca_90.transform(X_test_scaled)\n",
    "\n",
    "print(f\"Shape of the PCA-transformed train data (90% variance): {X_train_pca_90.shape}\")\n",
    "print(f\"Shape of the PCA-transformed test data (90% variance): {X_test_pca_90.shape}\")'''"
   ]
  },
  {
   "cell_type": "markdown",
   "id": "fb8f78c9",
   "metadata": {},
   "source": [
    "## 4. Needed Function For Test and Eval"
   ]
  },
  {
   "cell_type": "code",
   "execution_count": null,
   "id": "ceab17c6",
   "metadata": {},
   "outputs": [],
   "source": [
    "def filter_dataset_by_class(X_train_feat, y_train, X_test_feat, y_test, class_range):\n",
    "    train_indices = np.where(np.isin(y_train, class_range))[0]\n",
    "    test_indices = np.where(np.isin(y_test, class_range))[0]\n",
    "\n",
    "    X_train = X_train_feat[train_indices]\n",
    "    y_train_filtered = y_train[train_indices] - min(class_range)\n",
    "\n",
    "    X_test = X_test_feat[test_indices]\n",
    "    y_test_filtered = y_test[test_indices] - min(class_range)\n",
    "\n",
    "    return X_train, y_train_filtered, X_test, y_test_filtered\n"
   ]
  },
  {
   "cell_type": "code",
   "execution_count": null,
   "id": "a2ecb77a",
   "metadata": {},
   "outputs": [],
   "source": [
    "def save_best_model(model, model_name, task_name):\n",
    "    filename = f\"{task_name.replace(' ', '_').lower()}_{model_name.replace(' ', '_').lower()}.joblib\"\n",
    "    joblib.dump(model, filename)\n",
    "    print(f\"Saved best model '{model_name}' for {task_name} as: {filename}\")"
   ]
  },
  {
   "cell_type": "code",
   "execution_count": null,
   "id": "77404ce7",
   "metadata": {},
   "outputs": [],
   "source": [
    "def train_and_evaluate_model(model, model_name, X_train, y_train, X_test, y_test, class_names):\n",
    "\n",
    "    # Train\n",
    "    model.fit(X_train, y_train)\n",
    "    y_pred = model.predict(X_test)\n",
    "\n",
    "    # Metrics\n",
    "    acc = accuracy_score(y_test, y_pred)\n",
    "    f1 = f1_score(y_test, y_pred, average='weighted')\n",
    "    precision = precision_score(y_test, y_pred, average='weighted')\n",
    "    recall = recall_score(y_test, y_pred, average='weighted')\n",
    "    print(f\"\\n--- {model_name} ---\")\n",
    "    print(\"Classification Report:\")\n",
    "    print(classification_report(y_test, y_pred, target_names=class_names))\n",
    "    print(\"Accuracy:\", acc)\n",
    "    print(\"F1 Score (weighted):\", f1)\n",
    "    print(\"Precision (weighted):\", precision)\n",
    "    print(\"Recall (weighted):\", recall) \n",
    "\n",
    "    # Confusion Matrix\n",
    "    cm = confusion_matrix(y_test, y_pred)\n",
    "    plt.figure(figsize=(5, 4))\n",
    "    sns.heatmap(cm, annot=True, fmt=\"d\", cmap=\"Blues\", xticklabels=class_names, yticklabels=class_names)\n",
    "    plt.title(f\"{model_name} - Confusion Matrix\")\n",
    "    plt.xlabel(\"Predicted\")\n",
    "    plt.ylabel(\"Actual\")\n",
    "    plt.tight_layout()\n",
    "    plt.show()\n",
    "\n",
    "    return model_name, acc, f1, precision, recall"
   ]
  },
  {
   "cell_type": "code",
   "execution_count": null,
   "id": "72da6cf0",
   "metadata": {},
   "outputs": [],
   "source": [
    "def evaluate_cancer_classifiers(X_train_feat, y_train, X_test_feat, y_test,\n",
    "                                 class_range, class_names, task_name=\"Cancer Classification\"):\n",
    "    \n",
    "    # Filter data\n",
    "    X_train, y_train_filtered, X_test, y_test_filtered = filter_dataset_by_class(\n",
    "        X_train_feat, y_train, X_test_feat, y_test, class_range\n",
    "    )\n",
    "\n",
    "    # Models\n",
    "    models = {\n",
    "        \"Random Forest\": RandomForestClassifier(n_estimators=100, random_state=42),\n",
    "        \"Logistic Regression\": LogisticRegression(max_iter=1000),\n",
    "        \"SVM (Linear)\": SVC(kernel='linear', probability=True),\n",
    "        \"Decision Tree\": DecisionTreeClassifier(random_state=42),\n",
    "        \"XGBoost\": XGBClassifier(use_label_encoder=False, eval_metric='mlogloss')\n",
    "    }\n",
    "\n",
    "    acc_list, f1_list = [], []\n",
    "    training_times = []  # List to store training times\n",
    "    trained_models = {}\n",
    "\n",
    "    print(f\"\\n========== {task_name} Evaluation ==========\")\n",
    "    print(f\"Classes: {class_names}\")\n",
    "\n",
    "    # Iterate over all models and evaluate them\n",
    "    for name, model in models.items():\n",
    "        start_time = time.time()  # Capture start time\n",
    "        acc_model, acc, f1 = train_and_evaluate_model(\n",
    "            model, name, X_train, y_train_filtered, X_test, y_test_filtered, class_names\n",
    "        )\n",
    "        end_time = time.time()  # Capture end time\n",
    "        training_time = end_time - start_time  # Calculate training time\n",
    "\n",
    "        acc_list.append((acc_model, acc))\n",
    "        f1_list.append((acc_model, f1))\n",
    "        training_times.append(training_time)  # Store the training time\n",
    "        trained_models[name] = model\n",
    "\n",
    "    best_model_name, _ = max(f1_list, key=lambda x: x[1])\n",
    "    best_model = trained_models[best_model_name]\n",
    "    save_best_model(best_model, best_model_name, task_name)\n",
    "\n",
    "    model_names = [x[0] for x in acc_list]\n",
    "    acc_values = [x[1] for x in acc_list]\n",
    "    f1_values = [x[1] for x in f1_list]\n",
    "\n",
    "    x = np.arange(len(model_names))\n",
    "    width = 0.35\n",
    "\n",
    "    # Visualization of performance (Accuracy and F1 Score)\n",
    "    plt.figure(figsize=(8, 5))\n",
    "    plt.bar(x - width/2, acc_values, width, label='Accuracy', color='skyblue')\n",
    "    plt.bar(x + width/2, f1_values, width, label='F1 Score', color='salmon')\n",
    "    plt.xticks(x, model_names, rotation=45)\n",
    "    plt.ylabel(\"Score\")\n",
    "    plt.title(f\"{task_name} - Model Comparison\")\n",
    "    plt.legend()\n",
    "    plt.tight_layout()\n",
    "    plt.show()\n",
    "\n",
    "    # Visualization of Training Times\n",
    "    plt.figure(figsize=(8, 5))\n",
    "    plt.bar(model_names, training_times, color='lightgreen')\n",
    "    plt.xlabel(\"Model\")\n",
    "    plt.ylabel(\"Training Time (seconds)\")\n",
    "    plt.title(f\"{task_name} - Training Time Comparison\")\n",
    "    plt.xticks(rotation=45)\n",
    "    plt.tight_layout()\n",
    "    plt.show()\n",
    "\n",
    "    print(\"\\nClassification and model saving completed.\")\n",
    "    \n",
    "    return best_model"
   ]
  },
  {
   "cell_type": "markdown",
   "id": "a3c502df",
   "metadata": {},
   "source": [
    "## 5. Lung Cancer Ops"
   ]
  },
  {
   "cell_type": "code",
   "execution_count": null,
   "id": "7b2cb0bc",
   "metadata": {},
   "outputs": [],
   "source": [
    "best_lung_model = evaluate_cancer_classifiers(\n",
    "    X_train_feat, y_train,\n",
    "    X_test_feat, y_test,\n",
    "    class_range=range(0, 3),\n",
    "    class_names=['lung_n', 'lung_aca', 'lung_scc'],\n",
    "    task_name=\"Lung Cancer\"\n",
    ")"
   ]
  },
  {
   "cell_type": "markdown",
   "id": "027f3c1f",
   "metadata": {},
   "source": [
    "## 6. Colon Cancer Ops"
   ]
  },
  {
   "cell_type": "code",
   "execution_count": null,
   "id": "0e10ad86",
   "metadata": {},
   "outputs": [],
   "source": [
    "best_colon_model = evaluate_cancer_classifiers(\n",
    "    X_train_feat, y_train,\n",
    "    X_test_feat, y_test,\n",
    "    class_range=range(3, 5),\n",
    "    class_names=['colon_n', 'colon_aca'],\n",
    "    task_name=\"Colon Cancer\"\n",
    ")"
   ]
  },
  {
   "cell_type": "markdown",
   "id": "909932ea",
   "metadata": {},
   "source": [
    "## 5. Stacking Ensemble Learning"
   ]
  },
  {
   "cell_type": "code",
   "execution_count": null,
   "id": "895e45eb",
   "metadata": {},
   "outputs": [],
   "source": [
    "lung_preds_train = best_lung_model.predict_proba(X_train_feat)  # (N, num_classes_lung)\n",
    "colon_preds_train = best_colon_model.predict_proba(X_train_feat)  # (N, num_classes_colon)\n",
    "\n",
    "meta_X_train = np.hstack([lung_preds_train, colon_preds_train])\n",
    "\n",
    "meta_y_train = y_train"
   ]
  },
  {
   "cell_type": "code",
   "execution_count": null,
   "id": "ba8d5964",
   "metadata": {},
   "outputs": [],
   "source": [
    "best_meta_model = evaluate_cancer_classifiers(\n",
    "    meta_X_train, meta_y_train,  # Use stacked predictions as the features for meta-model\n",
    "    X_test_feat, y_test,  # Use original test data here\n",
    "    class_range=range(0, 5),\n",
    "    class_names=['colon_n', 'colon_aca', 'lung_n', 'lung_aca', 'lung_scc'],\n",
    "    task_name=\"Lung and Colon Cancer\"\n",
    ")"
   ]
  }
 ],
 "metadata": {
  "kernelspec": {
   "display_name": "venv",
   "language": "python",
   "name": "python3"
  },
  "language_info": {
   "codemirror_mode": {
    "name": "ipython",
    "version": 3
   },
   "file_extension": ".py",
   "mimetype": "text/x-python",
   "name": "python",
   "nbconvert_exporter": "python",
   "pygments_lexer": "ipython3",
   "version": "3.10.6"
  }
 },
 "nbformat": 4,
 "nbformat_minor": 5
}
